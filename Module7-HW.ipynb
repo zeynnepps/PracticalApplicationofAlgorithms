{
 "cells": [
  {
   "cell_type": "markdown",
   "id": "67458197-f98d-4c11-9c56-35995752c7b0",
   "metadata": {},
   "source": [
    "**Problem1-Leetcode#703-Kth Largest Element in a Stream-Easy**\n",
    "\n",
    "Design a class to find the kth largest element in a stream. Note that it is the kth largest element in the sorted order, not the kth distinct element.\n",
    "\n",
    "Implement KthLargest class:\n",
    "\n",
    "KthLargest(int k, int[] nums) Initializes the object with the integer k and the stream of integers nums.\n",
    "int add(int val) Appends the integer val to the stream and returns the element representing the kth largest element in the stream.\n",
    " \n",
    "\n",
    "**Example 1:**\n",
    "\n",
    "- Input\n",
    "    - [\"KthLargest\", \"add\", \"add\", \"add\", \"add\", \"add\"]\n",
    "    - [[3, [4, 5, 8, 2]], [3], [5], [10], [9], [4]]\n",
    "- Output\n",
    "    - [null, 4, 5, 5, 8, 8]\n",
    "\n",
    "- Explanation\n",
    "    -KthLargest kthLargest = new KthLargest(3, [4, 5, 8, 2]);\n",
    "    -kthLargest.add(3);   // return 4\n",
    "    -kthLargest.add(5);   // return 5\n",
    "    -kthLargest.add(10);  // return 5\n",
    "    -kthLargest.add(9);   // return 8\n",
    "    -kthLargest.add(4);   // return 8\n",
    " \n",
    "\n",
    "- Constraints:\n",
    "\n",
    "    - 1 <= k <= 104\n",
    "    - 0 <= nums.length <= 104\n",
    "    - -104 <= nums[i] <= 104\n",
    "    - -104 <= val <= 104\n",
    "    - At most 104 calls will be made to add.\n",
    "    - It is guaranteed that there will be at least k elements in the array when you search for the kth element."
   ]
  },
  {
   "cell_type": "code",
   "execution_count": null,
   "id": "68d5916a-1da4-4f62-aea3-8a45e657ca3e",
   "metadata": {},
   "outputs": [],
   "source": [
    "class KthLargest(object):\n",
    "    def __init__(self, k, nums):\n",
    "        self.k = k\n",
    "        self.heap = nums\n",
    "        heapq.heapify(self.heap)\n",
    "        \n",
    "        while len(self.heap) > k:\n",
    "            heapq.heappop(self.heap)\n",
    "\n",
    "    def add(self, val):\n",
    "        heapq.heappush(self.heap, val)\n",
    "        if len(self.heap) > self.k:\n",
    "            heapq.heappop(self.heap)\n",
    "        return self.heap[0]"
   ]
  },
  {
   "cell_type": "code",
   "execution_count": null,
   "id": "309ccbf0-ee8b-4bdf-b871-e446be9f7c33",
   "metadata": {},
   "outputs": [],
   "source": []
  },
  {
   "cell_type": "markdown",
   "id": "3d26368d-49b7-4ffd-abb4-f8cbab67753b",
   "metadata": {},
   "source": [
    "**Problem2-Leetcode#1046- Last Stone Weight-Easy**\n",
    "\n",
    "You are given an array of integers stones where stones[i] is the weight of the ith stone.\n",
    "\n",
    "We are playing a game with the stones. On each turn, we choose the heaviest two stones and smash them together. Suppose the heaviest two stones have weights x and y with x <= y. The result of this smash is:\n",
    "\n",
    "If x == y, both stones are destroyed, and\n",
    "If x != y, the stone of weight x is destroyed, and the stone of weight y has new weight y - x.\n",
    "At the end of the game, there is at most one stone left.\n",
    "\n",
    "Return the weight of the last remaining stone. If there are no stones left, return 0.\n",
    "\n",
    " \n",
    "\n",
    "- Example 1:\n",
    "\n",
    "    - Input: stones = [2,7,4,1,8,1]\n",
    "    - Output: 1\n",
    "\n",
    "- Explanation: \n",
    "    - We combine 7 and 8 to get 1 so the array converts to [2,4,1,1,1] then,\n",
    "    - we combine 2 and 4 to get 2 so the array converts to [2,1,1,1] then,\n",
    "    - we combine 2 and 1 to get 1 so the array converts to [1,1,1] then,\n",
    "    - we combine 1 and 1 to get 0 so the array converts to [1] then that's the value of the last stone.\n",
    "    \n",
    "- Example 2:\n",
    "\n",
    "    - Input: stones = [1]\n",
    "    - Output: 1\n",
    " \n",
    "\n",
    "- Constraints:\n",
    "\n",
    "    - 1 <= stones.length <= 30\n",
    "    - 1 <= stones[i] <= 1000"
   ]
  },
  {
   "cell_type": "code",
   "execution_count": null,
   "id": "4867a7fe-b7a2-4f66-bcd6-a9867f59dc76",
   "metadata": {},
   "outputs": [],
   "source": [
    "class Solution(object):\n",
    "    def lastStoneWeight(self, stones):\n",
    "        for i in range(len(stones)):\n",
    "            stones[i] *= -1\n",
    "        heapq.heapify(stones)\n",
    "        while len(stones) > 1:\n",
    "            x = heapq.heappop(stones)\n",
    "            y = heapq.heappop(stones)\n",
    "            if x != y:\n",
    "                    heapq.heappush(stones, x - y)\n",
    "        return -heapq.heappop(stones) if stones else 0\n"
   ]
  },
  {
   "cell_type": "code",
   "execution_count": null,
   "id": "7b73ef88-0f00-4f7e-b35b-36bcf520dd54",
   "metadata": {},
   "outputs": [],
   "source": []
  },
  {
   "attachments": {
    "35b9b79b-6d05-4e5f-bbfb-09013435ac4a.jpg": {
     "image/jpeg": "[encoded data removed]"
    }
   },
   "cell_type": "markdown",
   "id": "34893cf6-49d4-40fe-ae58-47628a4d6689",
   "metadata": {},
   "source": [
    "**Problem3-Leetcode#973. K Closest Points to Origin-Medium**\n",
    "\n",
    "Given an array of points where points[i] = [xi, yi] represents a point on the X-Y plane and an integer k, return the k closest points to the origin (0, 0).\n",
    "\n",
    "The distance between two points on the X-Y plane is the Euclidean distance (i.e., √(x1 - x2)2 + (y1 - y2)2).\n",
    "\n",
    "You may return the answer in any order. The answer is guaranteed to be unique (except for the order that it is in).\n",
    "\n",
    "- Example 1:\n",
    "![closestplane1.jpg](attachment:35b9b79b-6d05-4e5f-bbfb-09013435ac4a.jpg)\n",
    "- Input: points = [[1,3],[-2,2]], k = 1\n",
    "    - Output: [[-2,2]]\n",
    "- Explanation:\n",
    "    - The distance between (1, 3) and the origin is sqrt(10).\n",
    "    - The distance between (-2, 2) and the origin is sqrt(8).\n",
    "    - Since sqrt(8) < sqrt(10), (-2, 2) is closer to the origin.\n",
    "    - We only want the closest k = 1 points from the origin, so the answer is just [[-2,2]].\n",
    "- Example 2:\n",
    "\n",
    "    - Input: points = [[3,3],[5,-1],[-2,4]], k = 2\n",
    "    - Output: [[3,3],[-2,4]]\n",
    "    - Explanation: The answer [[-2,4],[3,3]] would also be accepted.\n"
   ]
  },
  {
   "cell_type": "code",
   "execution_count": null,
   "id": "c9f8ecab-999e-4edd-8b67-c8db1fcf3223",
   "metadata": {},
   "outputs": [],
   "source": [
    "class Solution(object):\n",
    "    def kClosest(self, points, k):\n",
    "        heap = []\n",
    "        for (x, y) in points:\n",
    "            distance = x**2 + y**2  \n",
    "            heapq.heappush(heap, (distance, [x, y]))  \n",
    "          \n",
    "        result = []\n",
    "        for _ in range(k):\n",
    "            distance, point = heapq.heappop(heap)  \n",
    "            result.append(point) \n",
    "        \n",
    "        return result"
   ]
  },
  {
   "cell_type": "code",
   "execution_count": null,
   "id": "2fb74346-438f-4972-a444-64bd42931092",
   "metadata": {},
   "outputs": [],
   "source": []
  },
  {
   "cell_type": "markdown",
   "id": "556531d3-a8ca-410b-b81f-8b09f2aff4ff",
   "metadata": {},
   "source": [
    "**Problem4-Leetcode#215. Kth Largest Element in an Array-Medium**\n",
    "\n",
    "Given an integer array nums and an integer k, return the kth largest element in the array.\n",
    "\n",
    "Note that it is the kth largest element in the sorted order, not the kth distinct element.\n",
    "\n",
    "Can you solve it without sorting?\n",
    "\n",
    " \n",
    "\n",
    "- Example 1:\n",
    "    - Input: nums = [3,2,1,5,6,4], k = 2\n",
    "    - Output: 5\n",
    "    \n",
    "- Example 2:\n",
    "    - Input: nums = [3,2,3,1,2,4,5,5,6], k = 4\n",
    "    - Output: 4\n"
   ]
  },
  {
   "cell_type": "code",
   "execution_count": null,
   "id": "2ec65e55-bea7-4482-bc01-7756c7691448",
   "metadata": {},
   "outputs": [],
   "source": [
    "class Solution(object):\n",
    "    def findKthLargest(self, nums, k):\n",
    "        heap = nums[:k]\n",
    "        heapq.heapify(heap)\n",
    "        \n",
    "        for num in nums[k:]:\n",
    "            if num > heap[0]:  \n",
    "                heapq.heapreplace(heap, num)  \n",
    "        \n",
    "        return heap[0]"
   ]
  },
  {
   "cell_type": "code",
   "execution_count": null,
   "id": "ecb4ca43-da42-4b9e-b5bf-ab1237b6ee90",
   "metadata": {},
   "outputs": [],
   "source": []
  }
 ],
 "metadata": {
  "kernelspec": {
   "display_name": "Python 3 (ipykernel)",
   "language": "python",
   "name": "python3"
  },
  "language_info": {
   "codemirror_mode": {
    "name": "ipython",
    "version": 3
   },
   "file_extension": ".py",
   "mimetype": "text/x-python",
   "name": "python",
   "nbconvert_exporter": "python",
   "pygments_lexer": "ipython3",
   "version": "3.11.4"
  }
 },
 "nbformat": 4,
 "nbformat_minor": 5
}
